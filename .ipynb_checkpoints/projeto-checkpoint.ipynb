{
 "cells": [
  {
   "cell_type": "code",
   "execution_count": 1,
   "id": "387ef82c",
   "metadata": {},
   "outputs": [],
   "source": [
    "import pandas as pd\n",
    "import matplotlib.pyplot as plt # biblioteca gráfica\n",
    "import numpy as np # arrays numéricos\n",
    "import seaborn as sns # biblioteca gráfica extendida da Matplotlib"
   ]
  },
  {
   "cell_type": "code",
   "execution_count": 2,
   "id": "f47bfe5b",
   "metadata": {},
   "outputs": [],
   "source": [
    "df = pd.read_csv('arquivo/ocorrencias_cenipa.csv')"
   ]
  },
  {
   "cell_type": "code",
   "execution_count": 3,
   "id": "8eea95a7",
   "metadata": {},
   "outputs": [
    {
     "data": {
      "text/html": [
       "<div>\n",
       "<style scoped>\n",
       "    .dataframe tbody tr th:only-of-type {\n",
       "        vertical-align: middle;\n",
       "    }\n",
       "\n",
       "    .dataframe tbody tr th {\n",
       "        vertical-align: top;\n",
       "    }\n",
       "\n",
       "    .dataframe thead th {\n",
       "        text-align: right;\n",
       "    }\n",
       "</style>\n",
       "<table border=\"1\" class=\"dataframe\">\n",
       "  <thead>\n",
       "    <tr style=\"text-align: right;\">\n",
       "      <th></th>\n",
       "      <th>codigo</th>\n",
       "      <th>tipo</th>\n",
       "      <th>descricao</th>\n",
       "      <th>cidade</th>\n",
       "      <th>estado</th>\n",
       "      <th>data</th>\n",
       "      <th>ano</th>\n",
       "      <th>hora</th>\n",
       "      <th>aeronave_liberada</th>\n",
       "      <th>status_investigacao</th>\n",
       "      <th>...</th>\n",
       "      <th>ocorrencia_saida_pista</th>\n",
       "      <th>aeronave_tipo</th>\n",
       "      <th>aeronave_fabricante</th>\n",
       "      <th>motor_tipo</th>\n",
       "      <th>aeronave_motor_quantidade</th>\n",
       "      <th>aeronave_assentos</th>\n",
       "      <th>aeronave_ano_fabricacao</th>\n",
       "      <th>aeronave_pais_fabricante</th>\n",
       "      <th>aeronave_fase_operacao</th>\n",
       "      <th>aeronave_nivel_dano</th>\n",
       "    </tr>\n",
       "  </thead>\n",
       "  <tbody>\n",
       "    <tr>\n",
       "      <th>0</th>\n",
       "      <td>40107</td>\n",
       "      <td>ACIDENTE</td>\n",
       "      <td>COLISÃO COM OBSTÁCULO DURANTE A DECOLAGEM E POUSO</td>\n",
       "      <td>GURUPÁ</td>\n",
       "      <td>PA</td>\n",
       "      <td>2010-01-12</td>\n",
       "      <td>2010</td>\n",
       "      <td>14:30:00</td>\n",
       "      <td>SIM</td>\n",
       "      <td>FINALIZADA</td>\n",
       "      <td>...</td>\n",
       "      <td>NÃO</td>\n",
       "      <td>AVIÃO</td>\n",
       "      <td>NEIVA INDUSTRIA AERONAUTICA</td>\n",
       "      <td>PISTÃO</td>\n",
       "      <td>MONOMOTOR</td>\n",
       "      <td>7</td>\n",
       "      <td>1977</td>\n",
       "      <td>BRASIL</td>\n",
       "      <td>POUSO</td>\n",
       "      <td>LEVE</td>\n",
       "    </tr>\n",
       "    <tr>\n",
       "      <th>1</th>\n",
       "      <td>40147</td>\n",
       "      <td>ACIDENTE</td>\n",
       "      <td>FALHA OU MAU FUNCIONAMENTO DE SISTEMA / COMPON...</td>\n",
       "      <td>UNIÃO DA VITÓRIA</td>\n",
       "      <td>PR</td>\n",
       "      <td>2010-04-08</td>\n",
       "      <td>2010</td>\n",
       "      <td>14:20:00</td>\n",
       "      <td>SIM</td>\n",
       "      <td>FINALIZADA</td>\n",
       "      <td>...</td>\n",
       "      <td>SIM</td>\n",
       "      <td>AVIÃO</td>\n",
       "      <td>PIPER AIRCRAFT</td>\n",
       "      <td>PISTÃO</td>\n",
       "      <td>BIMOTOR</td>\n",
       "      <td>6</td>\n",
       "      <td>1997</td>\n",
       "      <td>BRASIL</td>\n",
       "      <td>POUSO</td>\n",
       "      <td>SUBSTANCIAL</td>\n",
       "    </tr>\n",
       "    <tr>\n",
       "      <th>2</th>\n",
       "      <td>40148</td>\n",
       "      <td>ACIDENTE</td>\n",
       "      <td>PANE SECA</td>\n",
       "      <td>CAMPO GRANDE</td>\n",
       "      <td>MS</td>\n",
       "      <td>2010-03-19</td>\n",
       "      <td>2010</td>\n",
       "      <td>19:30:00</td>\n",
       "      <td>SIM</td>\n",
       "      <td>FINALIZADA</td>\n",
       "      <td>...</td>\n",
       "      <td>NÃO</td>\n",
       "      <td>AVIÃO</td>\n",
       "      <td>CESSNA AIRCRAFT</td>\n",
       "      <td>PISTÃO</td>\n",
       "      <td>MONOMOTOR</td>\n",
       "      <td>6</td>\n",
       "      <td>1962</td>\n",
       "      <td>BRASIL</td>\n",
       "      <td>APROXIMAÇÃO FINAL</td>\n",
       "      <td>SUBSTANCIAL</td>\n",
       "    </tr>\n",
       "    <tr>\n",
       "      <th>3</th>\n",
       "      <td>40149</td>\n",
       "      <td>ACIDENTE</td>\n",
       "      <td>FALHA DO MOTOR EM VOO</td>\n",
       "      <td>LUZIÂNIA</td>\n",
       "      <td>GO</td>\n",
       "      <td>2010-03-21</td>\n",
       "      <td>2010</td>\n",
       "      <td>20:45:00</td>\n",
       "      <td>SIM</td>\n",
       "      <td>FINALIZADA</td>\n",
       "      <td>...</td>\n",
       "      <td>NÃO</td>\n",
       "      <td>AVIÃO</td>\n",
       "      <td>XAVANTE</td>\n",
       "      <td>PISTÃO</td>\n",
       "      <td>MONOMOTOR</td>\n",
       "      <td>2</td>\n",
       "      <td>1974</td>\n",
       "      <td>BRASIL</td>\n",
       "      <td>DECOLAGEM</td>\n",
       "      <td>DESTRUÍDA</td>\n",
       "    </tr>\n",
       "    <tr>\n",
       "      <th>4</th>\n",
       "      <td>40150</td>\n",
       "      <td>INCIDENTE GRAVE</td>\n",
       "      <td>COM TREM DE POUSO</td>\n",
       "      <td>SANTA MARIA</td>\n",
       "      <td>RS</td>\n",
       "      <td>2010-03-10</td>\n",
       "      <td>2010</td>\n",
       "      <td>17:20:00</td>\n",
       "      <td>SIM</td>\n",
       "      <td>FINALIZADA</td>\n",
       "      <td>...</td>\n",
       "      <td>NÃO</td>\n",
       "      <td>AVIÃO</td>\n",
       "      <td>BEECH AIRCRAFT</td>\n",
       "      <td>PISTÃO</td>\n",
       "      <td>MONOMOTOR</td>\n",
       "      <td>6</td>\n",
       "      <td>1974</td>\n",
       "      <td>BRASIL</td>\n",
       "      <td>POUSO</td>\n",
       "      <td>LEVE</td>\n",
       "    </tr>\n",
       "  </tbody>\n",
       "</table>\n",
       "<p>5 rows × 21 columns</p>\n",
       "</div>"
      ],
      "text/plain": [
       "   codigo             tipo                                          descricao  \\\n",
       "0   40107         ACIDENTE  COLISÃO COM OBSTÁCULO DURANTE A DECOLAGEM E POUSO   \n",
       "1   40147         ACIDENTE  FALHA OU MAU FUNCIONAMENTO DE SISTEMA / COMPON...   \n",
       "2   40148         ACIDENTE                                          PANE SECA   \n",
       "3   40149         ACIDENTE                              FALHA DO MOTOR EM VOO   \n",
       "4   40150  INCIDENTE GRAVE                                  COM TREM DE POUSO   \n",
       "\n",
       "             cidade estado        data   ano      hora aeronave_liberada  \\\n",
       "0            GURUPÁ     PA  2010-01-12  2010  14:30:00               SIM   \n",
       "1  UNIÃO DA VITÓRIA     PR  2010-04-08  2010  14:20:00               SIM   \n",
       "2      CAMPO GRANDE     MS  2010-03-19  2010  19:30:00               SIM   \n",
       "3          LUZIÂNIA     GO  2010-03-21  2010  20:45:00               SIM   \n",
       "4       SANTA MARIA     RS  2010-03-10  2010  17:20:00               SIM   \n",
       "\n",
       "  status_investigacao  ...  ocorrencia_saida_pista aeronave_tipo  \\\n",
       "0          FINALIZADA  ...                     NÃO         AVIÃO   \n",
       "1          FINALIZADA  ...                     SIM         AVIÃO   \n",
       "2          FINALIZADA  ...                     NÃO         AVIÃO   \n",
       "3          FINALIZADA  ...                     NÃO         AVIÃO   \n",
       "4          FINALIZADA  ...                     NÃO         AVIÃO   \n",
       "\n",
       "           aeronave_fabricante motor_tipo aeronave_motor_quantidade  \\\n",
       "0  NEIVA INDUSTRIA AERONAUTICA     PISTÃO                 MONOMOTOR   \n",
       "1               PIPER AIRCRAFT     PISTÃO                   BIMOTOR   \n",
       "2              CESSNA AIRCRAFT     PISTÃO                 MONOMOTOR   \n",
       "3                      XAVANTE     PISTÃO                 MONOMOTOR   \n",
       "4               BEECH AIRCRAFT     PISTÃO                 MONOMOTOR   \n",
       "\n",
       "  aeronave_assentos  aeronave_ano_fabricacao  aeronave_pais_fabricante  \\\n",
       "0                 7                     1977                    BRASIL   \n",
       "1                 6                     1997                    BRASIL   \n",
       "2                 6                     1962                    BRASIL   \n",
       "3                 2                     1974                    BRASIL   \n",
       "4                 6                     1974                    BRASIL   \n",
       "\n",
       "  aeronave_fase_operacao aeronave_nivel_dano  \n",
       "0                  POUSO                LEVE  \n",
       "1                  POUSO         SUBSTANCIAL  \n",
       "2      APROXIMAÇÃO FINAL         SUBSTANCIAL  \n",
       "3              DECOLAGEM           DESTRUÍDA  \n",
       "4                  POUSO                LEVE  \n",
       "\n",
       "[5 rows x 21 columns]"
      ]
     },
     "execution_count": 3,
     "metadata": {},
     "output_type": "execute_result"
    }
   ],
   "source": [
    "df.head()"
   ]
  },
  {
   "cell_type": "code",
   "execution_count": 4,
   "id": "b50af274",
   "metadata": {},
   "outputs": [
    {
     "data": {
      "text/plain": [
       "['codigo',\n",
       " 'tipo',\n",
       " 'descricao',\n",
       " 'cidade',\n",
       " 'estado',\n",
       " 'data',\n",
       " 'ano',\n",
       " 'hora',\n",
       " 'aeronave_liberada',\n",
       " 'status_investigacao',\n",
       " 'aeronaves_envolvidas',\n",
       " 'ocorrencia_saida_pista',\n",
       " 'aeronave_tipo',\n",
       " 'aeronave_fabricante',\n",
       " 'motor_tipo',\n",
       " 'aeronave_motor_quantidade',\n",
       " 'aeronave_assentos',\n",
       " 'aeronave_ano_fabricacao',\n",
       " 'aeronave_pais_fabricante',\n",
       " 'aeronave_fase_operacao',\n",
       " 'aeronave_nivel_dano']"
      ]
     },
     "execution_count": 4,
     "metadata": {},
     "output_type": "execute_result"
    }
   ],
   "source": [
    "list(df.columns)"
   ]
  },
  {
   "cell_type": "code",
   "execution_count": 12,
   "id": "6669f2a6",
   "metadata": {},
   "outputs": [
    {
     "data": {
      "text/plain": [
       "codigo                        int64\n",
       "tipo                         object\n",
       "descricao                    object\n",
       "cidade                       object\n",
       "estado                       object\n",
       "data                         object\n",
       "ano                           int64\n",
       "hora                         object\n",
       "aeronave_liberada            object\n",
       "status_investigacao          object\n",
       "aeronaves_envolvidas          int64\n",
       "ocorrencia_saida_pista       object\n",
       "aeronave_tipo                object\n",
       "aeronave_fabricante          object\n",
       "motor_tipo                   object\n",
       "aeronave_motor_quantidade    object\n",
       "aeronave_assentos             int64\n",
       "aeronave_ano_fabricacao       int64\n",
       "aeronave_pais_fabricante     object\n",
       "aeronave_fase_operacao       object\n",
       "aeronave_nivel_dano          object\n",
       "dtype: object"
      ]
     },
     "execution_count": 12,
     "metadata": {},
     "output_type": "execute_result"
    }
   ],
   "source": [
    "df.dtypes"
   ]
  },
  {
   "cell_type": "code",
   "execution_count": 52,
   "id": "d92f9533",
   "metadata": {},
   "outputs": [],
   "source": [
    "df['ano'] = df['ano'].astype(str)"
   ]
  },
  {
   "cell_type": "code",
   "execution_count": 53,
   "id": "af7fe4a7",
   "metadata": {},
   "outputs": [
    {
     "data": {
      "text/plain": [
       "codigo                        int64\n",
       "tipo                         object\n",
       "descricao                    object\n",
       "cidade                       object\n",
       "estado                       object\n",
       "data                         object\n",
       "ano                          object\n",
       "hora                         object\n",
       "aeronave_liberada            object\n",
       "status_investigacao          object\n",
       "aeronaves_envolvidas          int64\n",
       "ocorrencia_saida_pista       object\n",
       "aeronave_tipo                object\n",
       "aeronave_fabricante          object\n",
       "motor_tipo                   object\n",
       "aeronave_motor_quantidade    object\n",
       "aeronave_assentos             int64\n",
       "aeronave_ano_fabricacao       int64\n",
       "aeronave_pais_fabricante     object\n",
       "aeronave_fase_operacao       object\n",
       "aeronave_nivel_dano          object\n",
       "dtype: object"
      ]
     },
     "execution_count": 53,
     "metadata": {},
     "output_type": "execute_result"
    }
   ],
   "source": [
    "df.dtypes"
   ]
  },
  {
   "cell_type": "code",
   "execution_count": 54,
   "id": "5aee7490",
   "metadata": {},
   "outputs": [
    {
     "name": "stdout",
     "output_type": "stream",
     "text": [
      "['2010' '2011' '2012' '2013' '2014' '2015' '2016' '2017' '2018' '2019']\n"
     ]
    }
   ],
   "source": [
    "ab = df['ano'].unique()\n",
    "print(ab)"
   ]
  },
  {
   "cell_type": "code",
   "execution_count": 73,
   "id": "07ca5c65",
   "metadata": {},
   "outputs": [
    {
     "name": "stdout",
     "output_type": "stream",
     "text": [
      "[22, 19, 24, 12, 15, 25, 23, 28, 25, 17]\n",
      "[7, 0, 6, 4, 0, 0, 2, 1, 2, 2]\n",
      "[4, 1, 1, 1, 3, 0, 0, 2, 5, 1]\n"
     ]
    }
   ],
   "source": [
    "lista_nova1 = []\n",
    "lista_nova2 = []\n",
    "lista_nova3 = []\n",
    "\n",
    "for i in ab:\n",
    "    querytest1  = len(df[(df['cidade'] == 'SÃO PAULO') & (df['tipo'] == 'INCIDENTE') & (df['ano'] == i)])\n",
    "    lista_nova1.append(querytest1)\n",
    "    \n",
    "    querytest2 = len(df[(df['cidade'] == 'SÃO PAULO') & (df['tipo'] == 'ACIDENTE') & (df['ano'] == i)])\n",
    "    lista_nova2.append(querytest2)\n",
    "    \n",
    "    querytest3  = len(df[(df['cidade'] == 'SÃO PAULO') & (df['tipo'] == 'INCIDENTE GRAVE') & (df['ano'] == i)])\n",
    "    lista_nova3.append(querytest3)\n",
    "    \n",
    "print(lista_nova1)\n",
    "print(lista_nova2)\n",
    "print(lista_nova3)"
   ]
  },
  {
   "cell_type": "code",
   "execution_count": null,
   "id": "5bf975e8",
   "metadata": {},
   "outputs": [],
   "source": [
    "22 19 24 12 15 25 23 28 25 17"
   ]
  },
  {
   "cell_type": "code",
   "execution_count": null,
   "id": "b30dab48",
   "metadata": {},
   "outputs": [],
   "source": [
    "querytest  = len(df[(df['cidade'] == 'SÃO PAULO') & (df['ano'] == '2011')])\n",
    "\n",
    "print(querytest)"
   ]
  },
  {
   "cell_type": "code",
   "execution_count": null,
   "id": "82a35b9b",
   "metadata": {},
   "outputs": [],
   "source": []
  },
  {
   "cell_type": "code",
   "execution_count": null,
   "id": "e39b1248",
   "metadata": {},
   "outputs": [],
   "source": [
    "values = [33, 20, 31, 17, 18, 25, 25, 31, 32, 20]"
   ]
  },
  {
   "cell_type": "code",
   "execution_count": null,
   "id": "e40fc5b0",
   "metadata": {},
   "outputs": [],
   "source": []
  },
  {
   "cell_type": "code",
   "execution_count": null,
   "id": "18a9a5ea",
   "metadata": {},
   "outputs": [],
   "source": []
  },
  {
   "cell_type": "code",
   "execution_count": null,
   "id": "564756f0",
   "metadata": {},
   "outputs": [],
   "source": []
  },
  {
   "cell_type": "code",
   "execution_count": null,
   "id": "e79a4d64",
   "metadata": {},
   "outputs": [],
   "source": []
  },
  {
   "cell_type": "code",
   "execution_count": null,
   "id": "c1161770",
   "metadata": {},
   "outputs": [],
   "source": []
  },
  {
   "cell_type": "code",
   "execution_count": null,
   "id": "50a3f2cd",
   "metadata": {},
   "outputs": [],
   "source": []
  },
  {
   "cell_type": "code",
   "execution_count": null,
   "id": "0d536909",
   "metadata": {},
   "outputs": [],
   "source": []
  },
  {
   "cell_type": "code",
   "execution_count": null,
   "id": "917c1681",
   "metadata": {},
   "outputs": [],
   "source": []
  },
  {
   "cell_type": "code",
   "execution_count": null,
   "id": "fe888828",
   "metadata": {},
   "outputs": [],
   "source": []
  },
  {
   "cell_type": "code",
   "execution_count": null,
   "id": "46bba989",
   "metadata": {},
   "outputs": [],
   "source": []
  },
  {
   "cell_type": "code",
   "execution_count": null,
   "id": "f3eb7db8",
   "metadata": {},
   "outputs": [],
   "source": []
  },
  {
   "cell_type": "code",
   "execution_count": null,
   "id": "124b044c",
   "metadata": {},
   "outputs": [],
   "source": []
  },
  {
   "cell_type": "code",
   "execution_count": null,
   "id": "a82b4bc2",
   "metadata": {},
   "outputs": [],
   "source": []
  },
  {
   "cell_type": "code",
   "execution_count": null,
   "id": "92d6244e",
   "metadata": {},
   "outputs": [],
   "source": []
  },
  {
   "cell_type": "code",
   "execution_count": 55,
   "id": "1f4bd81b",
   "metadata": {},
   "outputs": [
    {
     "name": "stdout",
     "output_type": "stream",
     "text": [
      "5242\n"
     ]
    }
   ],
   "source": [
    "qtd_acidente_brasil = len(df.index)\n",
    "print(qtd_acidente_brasil)"
   ]
  },
  {
   "cell_type": "code",
   "execution_count": 72,
   "id": "ba9ea422",
   "metadata": {},
   "outputs": [
    {
     "name": "stdout",
     "output_type": "stream",
     "text": [
      "22 19 24 12 15 25 23 28 25 17\n"
     ]
    }
   ],
   "source": [
    "query1  = len(df[(df['cidade'] == 'SÃO PAULO') & (df['tipo'] == 'INCIDENTE') & (df['ano'] == '2010')])\n",
    "query2  = len(df[(df['cidade'] == 'SÃO PAULO') & (df['tipo'] == 'INCIDENTE') & (df['ano'] == '2011')])\n",
    "query3  = len(df[(df['cidade'] == 'SÃO PAULO') & (df['tipo'] == 'INCIDENTE') & (df['ano'] == '2012')])\n",
    "query4  = len(df[(df['cidade'] == 'SÃO PAULO') & (df['tipo'] == 'INCIDENTE') & (df['ano'] == '2013')])\n",
    "query5  = len(df[(df['cidade'] == 'SÃO PAULO') & (df['tipo'] == 'INCIDENTE') & (df['ano'] == '2014')])\n",
    "query6  = len(df[(df['cidade'] == 'SÃO PAULO') & (df['tipo'] == 'INCIDENTE') & (df['ano'] == '2015')])\n",
    "query7  = len(df[(df['cidade'] == 'SÃO PAULO') & (df['tipo'] == 'INCIDENTE') & (df['ano'] == '2016')])\n",
    "query8  = len(df[(df['cidade'] == 'SÃO PAULO') & (df['tipo'] == 'INCIDENTE') & (df['ano'] == '2017')])\n",
    "query9  = len(df[(df['cidade'] == 'SÃO PAULO') & (df['tipo'] == 'INCIDENTE') & (df['ano'] == '2018')])\n",
    "query10 = len(df[(df['cidade'] == 'SÃO PAULO') & (df['tipo'] == 'INCIDENTE') & (df['ano'] == '2019')])\n",
    "\n",
    "\n",
    "print(query1, query2, query3, query4, query5, query6, query7, query8, query9, query10)"
   ]
  },
  {
   "cell_type": "code",
   "execution_count": null,
   "id": "f6ee4951",
   "metadata": {},
   "outputs": [],
   "source": [
    "query11  = len(df[(df['cidade'] == 'SÃO PAULO') & (df['tipo'] == 'ACIDENTE') & (df['ano'] == 2010)])\n",
    "query12  = len(df[(df['cidade'] == 'SÃO PAULO') & (df['tipo'] == 'ACIDENTE') & (df['ano'] == 2011)])\n",
    "query13  = len(df[(df['cidade'] == 'SÃO PAULO') & (df['tipo'] == 'ACIDENTE') & (df['ano'] == 2012)])\n",
    "query14  = len(df[(df['cidade'] == 'SÃO PAULO') & (df['tipo'] == 'ACIDENTE') & (df['ano'] == 2013)])\n",
    "query15  = len(df[(df['cidade'] == 'SÃO PAULO') & (df['tipo'] == 'ACIDENTE') & (df['ano'] == 2014)])\n",
    "query16  = len(df[(df['cidade'] == 'SÃO PAULO') & (df['tipo'] == 'ACIDENTE') & (df['ano'] == 2015)])\n",
    "query17  = len(df[(df['cidade'] == 'SÃO PAULO') & (df['tipo'] == 'ACIDENTE') & (df['ano'] == 2016)])\n",
    "query18  = len(df[(df['cidade'] == 'SÃO PAULO') & (df['tipo'] == 'ACIDENTE') & (df['ano'] == 2017)])\n",
    "query19  = len(df[(df['cidade'] == 'SÃO PAULO') & (df['tipo'] == 'ACIDENTE') & (df['ano'] == 2018)])\n",
    "query20  = len(df[(df['cidade'] == 'SÃO PAULO') & (df['tipo'] == 'ACIDENTE') & (df['ano'] == 2019)])\n",
    "\n",
    "print(query11, query12, query13, query14, query15, query16, query17, query18, query19, query20)\n"
   ]
  },
  {
   "cell_type": "code",
   "execution_count": null,
   "id": "11ab7281",
   "metadata": {},
   "outputs": [],
   "source": [
    "query21  = len(df[(df['cidade'] == 'SÃO PAULO') & (df['tipo'] == 'INCIDENTE GRAVE') & (df['ano'] == 2010)])\n",
    "query22  = len(df[(df['cidade'] == 'SÃO PAULO') & (df['tipo'] == 'INCIDENTE GRAVE') & (df['ano'] == 2011)])\n",
    "query23  = len(df[(df['cidade'] == 'SÃO PAULO') & (df['tipo'] == 'INCIDENTE GRAVE') & (df['ano'] == 2012)])\n",
    "query24  = len(df[(df['cidade'] == 'SÃO PAULO') & (df['tipo'] == 'INCIDENTE GRAVE') & (df['ano'] == 2013)])\n",
    "query25  = len(df[(df['cidade'] == 'SÃO PAULO') & (df['tipo'] == 'INCIDENTE GRAVE') & (df['ano'] == 2014)])\n",
    "query26  = len(df[(df['cidade'] == 'SÃO PAULO') & (df['tipo'] == 'INCIDENTE GRAVE') & (df['ano'] == 2015)])\n",
    "query27  = len(df[(df['cidade'] == 'SÃO PAULO') & (df['tipo'] == 'INCIDENTE GRAVE') & (df['ano'] == 2016)])\n",
    "query28  = len(df[(df['cidade'] == 'SÃO PAULO') & (df['tipo'] == 'INCIDENTE GRAVE') & (df['ano'] == 2017)])\n",
    "query29  = len(df[(df['cidade'] == 'SÃO PAULO') & (df['tipo'] == 'INCIDENTE GRAVE') & (df['ano'] == 2018)])\n",
    "query30  = len(df[(df['cidade'] == 'SÃO PAULO') & (df['tipo'] == 'INCIDENTE GRAVE') & (df['ano'] == 2019)])\n",
    "\n",
    "print(query21, query22, query23, query24, query25, query26, query27, query28, query29, query30)"
   ]
  },
  {
   "cell_type": "code",
   "execution_count": null,
   "id": "3965ee7f",
   "metadata": {},
   "outputs": [],
   "source": [
    "tipo = df['tipo'].value_counts()\n",
    "\n",
    "print(tipo)"
   ]
  },
  {
   "cell_type": "code",
   "execution_count": null,
   "id": "c34c2367",
   "metadata": {},
   "outputs": [],
   "source": [
    "import matplotlib.pyplot as plt\n",
    "import numpy as np\n",
    "\n",
    "\n",
    "labels = ['2010', '2011', '2012', '2013', '2014', '2015', '2016', '2017', '2018', '2019']\n",
    "men_means = [33, 20, 31, 17, 18, 25, 25, 31, 32, 20]\n",
    "women_means = [22, 19, 24, 12, 15, 25, 23, 28, 25, 17,]\n",
    "a = [22, 19, 24, 12, 15, 25, 23, 28, 25, 17,]\n",
    "\n",
    "x = np.arange(len(labels))  # the label locations\n",
    "width = 0.25  # the width of the bars\n",
    "\n",
    "\n",
    "fig, ax = plt.subplots(figsize=(10,10))\n",
    "rects1 = ax.bar(x + 0.05, men_means, width, label='Men')\n",
    "rects2 = ax.bar(x + 0.50, women_means, width, label='Women')\n",
    "rects3 = ax.bar(x + 0.80, a, width, label='a')\n",
    "\n",
    "# Add some text for labels, title and custom x-axis tick labels, etc.\n",
    "ax.set_title(\"Acidentes aéreos por ano na cidade de São Paulo\", fontsize=18)\n",
    "\n",
    "ax.set_ylabel(\"Quantidade de acidentes aéreos\", fontsize=14)\n",
    "ax.set_xlabel(\"Anos\", fontsize=14)\n",
    "ax.legend()\n",
    "\n",
    "ax.bar_label(rects1, padding=3)\n",
    "ax.bar_label(rects2, padding=3)\n",
    "\n",
    "fig.tight_layout()\n",
    "\n",
    "plt.show()"
   ]
  },
  {
   "cell_type": "code",
   "execution_count": 79,
   "id": "94500d96",
   "metadata": {
    "scrolled": true
   },
   "outputs": [
    {
     "data": {
      "image/png": "[encoded data removed]",
      "text/plain": [
       "<Figure size 1080x720 with 1 Axes>"
      ]
     },
     "metadata": {
      "needs_background": "light"
     },
     "output_type": "display_data"
    }
   ],
   "source": [
    "anos = ['2010', '2011', '2012', '2013', '2014', '2015', '2016', '2017', '2018', '2019']\n",
    "\n",
    "incidente = [22, 19, 24, 12, 15, 25, 23, 28, 25, 17,]              \n",
    "acidente = [7, 0, 6, 4, 0, 0, 2, 1, 2, 2]\n",
    "incidente_grave = [4, 1, 1, 1, 3, 0, 0, 2, 5, 1]\n",
    "\n",
    "#media = np.mean(anos)\n",
    "x = np.arange(len(anos))\n",
    "\n",
    "width = 0.25\n",
    "\n",
    "\n",
    "fig, ax = plt.subplots(figsize=(15, 10))\n",
    "a = ax.bar(x - 0.25, incidente, width, label='INCIDENTE' )\n",
    "b = ax.bar(anos, acidente, width, label='ACIDENTE')\n",
    "text = ax.bar(x + 0.25, incidente_grave, width, label='INCIDENTE GRAVE')\n",
    "\n",
    "#plt.axhline(media, 0, 1, color='r', **{'ls':'--'})\n",
    "\n",
    "# titulo do grafico\n",
    "ax.set_title(\"Acidentes aéreos por ano na cidade de São Paulo\", fontsize=18)\n",
    "\n",
    "ax.set_ylabel(\"Quantidade de acidentes aéreos\", fontsize=14)\n",
    "ax.set_xlabel(\"Anos\", fontsize=14)\n",
    "\n",
    "ax.legend()\n",
    "\n",
    "ax.bar_label(a, padding=1)\n",
    "ax.bar_label(b, padding=1)\n",
    "ax.bar_label(text, padding=1)\n",
    "\n",
    "#for idx, val in enumerate(values):\n",
    "   # txt = f'{val}'\n",
    "   # y_coord = val + 0.7\n",
    "   # x_coord = idx - 0.13\n",
    "    \n",
    "   # ax.text(x=x_coord, y=y_coord, s=txt, fontsize=12)\n",
    "    \n",
    "# mostrar o grafico\n",
    "plt.show()"
   ]
  },
  {
   "cell_type": "code",
   "execution_count": 56,
   "id": "2d68f90a",
   "metadata": {},
   "outputs": [
    {
     "name": "stderr",
     "output_type": "stream",
     "text": [
      "No handles with labels found to put in legend.\n"
     ]
    },
    {
     "data": {
      "image/png": "[encoded data removed]",
      "text/plain": [
       "<Figure size 864x360 with 1 Axes>"
      ]
     },
     "metadata": {},
     "output_type": "display_data"
    }
   ],
   "source": [
    "# pegando quantidade de valores de cada estatus da coluna status_investigacao e transformando em lista\n",
    "status_investigacao = df['status_investigacao'].value_counts()\n",
    "\n",
    "# cores do grafico\n",
    "colors = [\"Grey\", \"#28afc9\", \"#42fc5e\"]\n",
    "\n",
    "fig, ax = plt.subplots(figsize=(12, 5))\n",
    "\n",
    "# tupla de valores que representa o deslocamento de uma parte do grafico\n",
    "explode = (0.1, 0.1, 0.1)\n",
    "\n",
    "# codigo para a criação do grafico\n",
    "ax.pie(status_investigacao, autopct=\"%.2f%%\", shadow=True, explode=explode, startangle=40, colors=colors)\n",
    "\n",
    "ax.legend()\n",
    "\n",
    "# titulo e tamnho da fonte\n",
    "ax.set_title('Status_investigacão', fontsize=20)\n",
    "\n",
    "# mostrar o grafico\n",
    "plt.show()"
   ]
  },
  {
   "cell_type": "code",
   "execution_count": null,
   "id": "0a28091a",
   "metadata": {},
   "outputs": [],
   "source": []
  },
  {
   "cell_type": "code",
   "execution_count": null,
   "id": "a4c7317b",
   "metadata": {},
   "outputs": [],
   "source": [
    "anos_brasil = ['2010', '2011', '2012', '2013', '2014', '2015', '2016', '2017', '2018', '2019']\n",
    "qtd_acidentes = [552, 576, 647, 653, 567, 471, 403, 434, 443, 496]\n",
    "\n",
    "fig, ax = plt.subplots(figsize=(12, 5))\n",
    "\n",
    "plt.plot(anos_brasil, qtd_acidentes)\n",
    "plt.grid()\n",
    "plt.show"
   ]
  },
  {
   "cell_type": "code",
   "execution_count": 60,
   "id": "d8cddc12",
   "metadata": {},
   "outputs": [
    {
     "name": "stdout",
     "output_type": "stream",
     "text": [
      "20\n"
     ]
    }
   ],
   "source": [
    "querytest  = len(df[(df['cidade'] == 'SÃO PAULO') & (df['ano'] == '2011')])\n",
    "\n",
    "print(querytest)"
   ]
  },
  {
   "cell_type": "code",
   "execution_count": 78,
   "id": "96a77e15",
   "metadata": {},
   "outputs": [
    {
     "name": "stdout",
     "output_type": "stream",
     "text": [
      "[552, 576, 647, 653, 567, 471, 403, 434, 443, 496]\n"
     ]
    }
   ],
   "source": [
    "lista_nova1 = []\n",
    "\n",
    "for i in ab:\n",
    "    querytest1  = len(df[(df['ano'] == i)])\n",
    "    lista_nova1.append(querytest1)\n",
    "    \n",
    "print(lista_nova1)    "
   ]
  },
  {
   "cell_type": "code",
   "execution_count": null,
   "id": "2038da2a",
   "metadata": {},
   "outputs": [],
   "source": []
  }
 ],
 "metadata": {
  "kernelspec": {
   "display_name": "Python 3 (ipykernel)",
   "language": "python",
   "name": "python3"
  },
  "language_info": {
   "codemirror_mode": {
    "name": "ipython",
    "version": 3
   },
   "file_extension": ".py",
   "mimetype": "text/x-python",
   "name": "python",
   "nbconvert_exporter": "python",
   "pygments_lexer": "ipython3",
   "version": "3.9.7"
  }
 },
 "nbformat": 4,
 "nbformat_minor": 5
}
