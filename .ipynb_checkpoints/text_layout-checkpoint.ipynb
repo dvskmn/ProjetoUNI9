{
 "cells": [
  {
   "cell_type": "code",
   "execution_count": null,
   "metadata": {},
   "outputs": [],
   "source": [
    "%matplotlib inline"
   ]
  },
  {
   "cell_type": "markdown",
   "metadata": {},
   "source": [
    "\n",
    "# Text Layout\n",
    "\n",
    "Create text with different alignment and rotation.\n"
   ]
  },
  {
   "cell_type": "code",
   "execution_count": 2,
   "metadata": {},
   "outputs": [
    {
     "data": {
      "text/plain": [
       "<Figure size 720x360 with 0 Axes>"
      ]
     },
     "metadata": {},
     "output_type": "display_data"
    }
   ],
   "source": [
    "import matplotlib.pyplot as plt\n",
    "import matplotlib.patches as patches\n",
    "\n",
    "fig = plt.figure(figsize=(10, 5))\n",
    "\n",
    "left, width = .25, .5\n",
    "bottom, height = .25, .5\n",
    "right = left + width\n",
    "top = bottom + height\n",
    "\n",
    "# Draw a rectangle in figure coordinates ((0, 0) is bottom left and (1, 1) is\n",
    "# upper right).\n",
    "p = patches.Rectangle((left, bottom), width, height, fill=False)\n",
    "fig.add_artist(p)\n",
    "\n",
    "# Figure.text (aka. plt.figtext) behaves like Axes.text (aka. plt.text), with\n",
    "# the sole exception that the coordinates are relative to the figure ((0, 0) is\n",
    "# bottom left and (1, 1) is upper right).\n",
    "fig.text(left, bottom, 'left top',\n",
    "         horizontalalignment='left', verticalalignment='top')\n",
    "fig.text(left, bottom, 'left bottom',\n",
    "         horizontalalignment='left', verticalalignment='bottom')\n",
    "fig.text(right, top, 'right bottom',\n",
    "         horizontalalignment='right', verticalalignment='bottom')\n",
    "fig.text(right, top, 'right top',\n",
    "         horizontalalignment='right', verticalalignment='top')\n",
    "fig.text(right, bottom, 'center top',\n",
    "         horizontalalignment='center', verticalalignment='top')\n",
    "fig.text(left, 0.5*(bottom+top), 'right center',\n",
    "         horizontalalignment='right', verticalalignment='center',\n",
    "         rotation='vertical')\n",
    "fig.text(left, 0.5*(bottom+top), 'left center',\n",
    "         horizontalalignment='left', verticalalignment='center',\n",
    "         rotation='vertical')\n",
    "fig.text(0.5*(left+right), 0.5*(bottom+top), 'middle',\n",
    "         horizontalalignment='center', verticalalignment='center',\n",
    "         fontsize=20, color='red')\n",
    "fig.text(right, 0.5*(bottom+top), 'centered',\n",
    "         horizontalalignment='center', verticalalignment='center',\n",
    "         rotation='vertical')\n",
    "fig.text(left, top, 'rotated\\nwith newlines',\n",
    "         horizontalalignment='center', verticalalignment='center',\n",
    "         rotation=45)\n",
    "\n",
    "plt.show()"
   ]
  },
  {
   "cell_type": "markdown",
   "metadata": {},
   "source": [
    ".. admonition:: References\n",
    "\n",
    "   The use of the following functions, methods, classes and modules is shown\n",
    "   in this example:\n",
    "\n",
    "   - `matplotlib.figure.Figure.add_artist`\n",
    "   - `matplotlib.figure.Figure.text`\n",
    "\n"
   ]
  }
 ],
 "metadata": {
  "kernelspec": {
   "display_name": "Python 3 (ipykernel)",
   "language": "python",
   "name": "python3"
  },
  "language_info": {
   "codemirror_mode": {
    "name": "ipython",
    "version": 3
   },
   "file_extension": ".py",
   "mimetype": "text/x-python",
   "name": "python",
   "nbconvert_exporter": "python",
   "pygments_lexer": "ipython3",
   "version": "3.9.7"
  }
 },
 "nbformat": 4,
 "nbformat_minor": 1
}
